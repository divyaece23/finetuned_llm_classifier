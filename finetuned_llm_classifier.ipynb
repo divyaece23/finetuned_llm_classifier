{
 "cells": [
  {
   "cell_type": "code",
   "execution_count": null,
   "metadata": {
    "id": "OUO0G3TlVIui"
   },
   "outputs": [],
   "source": [
    "from google.colab import files\n",
    "files.upload()  # Upload kaggle.json\n"
   ]
  },
  {
   "cell_type": "code",
   "execution_count": null,
   "metadata": {
    "id": "ZxuPkkbn7xIN"
   },
   "outputs": [],
   "source": [
    "!mkdir -p ~/.kaggle\n",
    "!cp kaggle.json ~/.kaggle/\n",
    "!chmod 600 ~/.kaggle/kaggle.json\n"
   ]
  },
  {
   "cell_type": "code",
   "execution_count": null,
   "metadata": {
    "id": "M3jWf3P570fr"
   },
   "outputs": [],
   "source": [
    "!pip install -q kaggle\n"
   ]
  },
  {
   "cell_type": "code",
   "execution_count": null,
   "metadata": {
    "colab": {
     "base_uri": "https://localhost:8080/"
    },
    "id": "Ble_gbW073xL",
    "outputId": "69a48f80-fb28-4074-e0d3-b672e3c0d140"
   },
   "outputs": [],
   "source": [
    "!kaggle datasets download -d abdallahwagih/spam-emails\n"
   ]
  },
  {
   "cell_type": "code",
   "execution_count": null,
   "metadata": {
    "colab": {
     "base_uri": "https://localhost:8080/"
    },
    "id": "QNjoPjRe782L",
    "outputId": "a19e1efb-dfb6-44d4-c5d8-07b43ff682aa"
   },
   "outputs": [],
   "source": [
    "!unzip spam-emails.zip -d spam_emails\n"
   ]
  },
  {
   "cell_type": "code",
   "execution_count": null,
   "metadata": {
    "colab": {
     "base_uri": "https://localhost:8080/",
     "height": 206
    },
    "id": "UrirewDU7_vT",
    "outputId": "39f420cb-f5ae-4566-b5db-78e0393ebe17"
   },
   "outputs": [],
   "source": [
    "import pandas as pd\n",
    "\n",
    "df = pd.read_csv(\"spam_emails/spam.csv\")\n",
    "df.head()\n"
   ]
  },
  {
   "cell_type": "code",
   "execution_count": null,
   "metadata": {
    "colab": {
     "base_uri": "https://localhost:8080/"
    },
    "id": "jmp4uz6E8HAj",
    "outputId": "2c408f56-a32f-4ee1-a12c-73ba4584a9d7"
   },
   "outputs": [],
   "source": [
    "df.shape"
   ]
  },
  {
   "cell_type": "code",
   "execution_count": null,
   "metadata": {
    "colab": {
     "base_uri": "https://localhost:8080/"
    },
    "id": "v0Hmu77Q8J1j",
    "outputId": "5f1a18ba-e96d-44ca-add9-5440a6d3db27"
   },
   "outputs": [],
   "source": [
    "print(df['Category'].value_counts())"
   ]
  },
  {
   "cell_type": "code",
   "execution_count": null,
   "metadata": {
    "colab": {
     "base_uri": "https://localhost:8080/"
    },
    "id": "KLoSe_3l9Hv9",
    "outputId": "b5ab0c2c-120c-4ffc-e26f-7a174e323b64"
   },
   "outputs": [],
   "source": [
    "print(df[df['Category']=='spam'].shape)"
   ]
  },
  {
   "cell_type": "code",
   "execution_count": null,
   "metadata": {
    "colab": {
     "base_uri": "https://localhost:8080/",
     "height": 206
    },
    "id": "bD2kEDbe9-JO",
    "outputId": "034c19c4-baab-4502-f842-c327657a9d0d"
   },
   "outputs": [],
   "source": [
    "df[df['Category']=='ham'].sample(5)"
   ]
  },
  {
   "cell_type": "code",
   "execution_count": null,
   "metadata": {
    "colab": {
     "base_uri": "https://localhost:8080/",
     "height": 206
    },
    "id": "_5JnBWI0_Flz",
    "outputId": "57927d30-8f12-4b2f-ee0b-db75d9169ad4"
   },
   "outputs": [],
   "source": [
    "df['Category'] = df['Category'].map({'spam':0, 'ham':1})\n",
    "df[:5]"
   ]
  },
  {
   "cell_type": "code",
   "execution_count": null,
   "metadata": {
    "colab": {
     "base_uri": "https://localhost:8080/",
     "height": 206
    },
    "id": "cTMZ2H8Z_hTj",
    "outputId": "682905c5-362a-4770-e8e7-0ae31610619f"
   },
   "outputs": [],
   "source": [
    "import numpy as np\n",
    "shuffled_df = df.sample(frac=1).reset_index(drop=True)\n",
    "shuffled_df[:5]"
   ]
  },
  {
   "cell_type": "code",
   "execution_count": null,
   "metadata": {
    "colab": {
     "base_uri": "https://localhost:8080/"
    },
    "id": "BNIRGfNGJ1dt",
    "outputId": "95db7eca-f1ff-42f6-b4e6-c20a12be5458"
   },
   "outputs": [],
   "source": [
    "shuffled_df.shape"
   ]
  },
  {
   "cell_type": "code",
   "execution_count": null,
   "metadata": {
    "id": "Yp1kced9HPUd"
   },
   "outputs": [],
   "source": [
    "train_percent, test_percent, val_percent = 0.75, 0.2, 0.05"
   ]
  },
  {
   "cell_type": "code",
   "execution_count": null,
   "metadata": {
    "colab": {
     "base_uri": "https://localhost:8080/"
    },
    "id": "xecTYX2GHdic",
    "outputId": "ad8c7262-4834-4851-bec4-3842e55eab70"
   },
   "outputs": [],
   "source": [
    "train_df = shuffled_df[:int(np.ceil(train_percent*shuffled_df.shape[0]))]\n",
    "test_df = shuffled_df[int(np.ceil(train_percent*shuffled_df.shape[0])):(int(np.ceil(train_percent*shuffled_df.shape[0]))+int(np.ceil(test_percent*shuffled_df.shape[0])))]\n",
    "val_df = shuffled_df[(int(np.ceil(train_percent*shuffled_df.shape[0]))+int(np.ceil(test_percent*shuffled_df.shape[0]))):]\n",
    "train_df[:5], test_df[:5], val_df[:5]"
   ]
  },
  {
   "cell_type": "code",
   "execution_count": null,
   "metadata": {
    "colab": {
     "base_uri": "https://localhost:8080/"
    },
    "id": "wbwG2_KhJhXV",
    "outputId": "c80bca54-dd00-43e2-a921-8480557183dc"
   },
   "outputs": [],
   "source": [
    "train_df.shape, test_df.shape, val_df.shape"
   ]
  },
  {
   "cell_type": "code",
   "execution_count": null,
   "metadata": {
    "id": "EpA7PQ6XNFL9"
   },
   "outputs": [],
   "source": [
    "import torch\n",
    "from torch.utils.data import Dataset\n",
    "from torch.utils.data import DataLoader\n",
    "\n",
    "\n",
    "class Classification(Dataset):\n",
    "    def __init__(self, data_frame, tokenizer, max_length=None, pad_token_id=50256):\n",
    "        self.data = data_frame\n",
    "\n",
    "        # Pre-tokenize msgs\n",
    "        self.encoded_msgs = [tokenizer.encode(msg) for msg in self.data[\"Message\"]]\n",
    "\n",
    "        if max_length is None:\n",
    "            self.max_length = self._longest_encoded_length()\n",
    "        else:\n",
    "            self.max_length = max_length\n",
    "            # truncate messages if they are longer than max_length\n",
    "            self.encoded_msgs = [\n",
    "                encoded_msg[:self.max_length]\n",
    "                for encoded_msg in self.encoded_msgs]\n",
    "\n",
    "        # pad all sequences (tokenized msg) in self.encoded_msgs to the same length: self.max_length.\n",
    "        self.encoded_msgs = [\n",
    "            encoded_msg + [pad_token_id] * (self.max_length - len(encoded_msg))\n",
    "            for encoded_msg in self.encoded_msgs]\n",
    "\n",
    "    def __getitem__(self, index):\n",
    "        encoded = self.encoded_msgs[index]\n",
    "        label = self.data.iloc[index][\"Category\"]\n",
    "        return (\n",
    "            torch.tensor(encoded, dtype=torch.long),\n",
    "            torch.tensor(label, dtype=torch.long)\n",
    "        )\n",
    "\n",
    "    def __len__(self):\n",
    "        return len(self.data)\n",
    "\n",
    "    def _longest_encoded_length(self):\n",
    "        return max(len(encoded_msg) for encoded_msg in self.encoded_msgs)\n"
   ]
  },
  {
   "cell_type": "code",
   "execution_count": null,
   "metadata": {
    "id": "W25p9RhHNotB"
   },
   "outputs": [],
   "source": [
    "import tiktoken\n",
    "tokenizer = tiktoken.get_encoding(\"gpt2\")"
   ]
  },
  {
   "cell_type": "code",
   "execution_count": null,
   "metadata": {
    "colab": {
     "base_uri": "https://localhost:8080/"
    },
    "id": "zPcXAgJrP_TP",
    "outputId": "5d97cc8c-6ef5-426a-a855-d9c8a77c95da"
   },
   "outputs": [],
   "source": [
    "#train_df.to_csv(\"train.csv\", index=None)\n",
    "train_dataset = Classification(train_df, max_length=None, tokenizer=tokenizer)\n",
    "print(train_dataset.max_length)\n",
    "#test_df.to_csv(\"test.csv\", index=None)\n",
    "test_dataset = Classification(test_df, max_length=train_dataset.max_length, tokenizer=tokenizer)\n"
   ]
  },
  {
   "cell_type": "code",
   "execution_count": null,
   "metadata": {
    "id": "tk4RIT_xSBAm"
   },
   "outputs": [],
   "source": [
    "batch_size = 6\n",
    "num_workers = 2\n",
    "train_loader = DataLoader(dataset=train_dataset,batch_size=batch_size,shuffle=True,num_workers=num_workers)\n",
    "test_loader = DataLoader(dataset=test_dataset,batch_size=batch_size,shuffle=False,num_workers=num_workers)\n"
   ]
  },
  {
   "cell_type": "code",
   "execution_count": null,
   "metadata": {
    "colab": {
     "base_uri": "https://localhost:8080/",
     "height": 657,
     "referenced_widgets": [
      "002f7acedceb465698b209beefe3fb4a",
      "2592ee4054ba484097799a8b214f9256",
      "34c9350a3b494bfb964eaeec1dc45ebf",
      "dc921f69a3b548c8941c87895a3ac43c",
      "02d284ce7271468da6268917a8ac6ba4",
      "ccb0f2de8fa44b57a5ee20ff3a4e1459",
      "99a5d36304b24aee8aaa0ae1edc9a7a2",
      "f639e3ac7045487b94f1d68ea72013dc",
      "db2f16424867478a8bef5873cb83cf16",
      "941a997e62e74adca0ae0e6802646f99",
      "2451aea327db42759a5efc567e725f54",
      "7a25c3b23b024525ba99767210d51586",
      "f1df1ac19ad048618c52d70101a58472",
      "f2b757b0781e44a7982aebaf1b34ddd6",
      "bfbe4c357735461b927d2df0b72f0e4f",
      "34aa2e2b5ea14743aae476e6b7420711",
      "34b2eaaa956045fcba8d827dfffbb5e1",
      "a748abb4d05f4f8c92860d78f6ae5464",
      "d01078b169944f25a5a1802ed83de312",
      "f57c210ffb214a58a6dbc61f5cbd9d5b",
      "ab23ddde179543acba5012a2f7b14fd1",
      "23d6ddca225745fe8f6c54679847c303"
     ]
    },
    "id": "3uR6L07m4_tq",
    "outputId": "e0e87dad-643c-4811-aa54-04189aa72077"
   },
   "outputs": [],
   "source": [
    "from transformers import GPT2Model, GPT2Tokenizer\n",
    "\n",
    "# Load GPT-2 small (124M)\n",
    "model = GPT2Model.from_pretrained(\"gpt2\")\n",
    "print(model)"
   ]
  },
  {
   "cell_type": "code",
   "execution_count": null,
   "metadata": {
    "id": "OcIfymV94_w5"
   },
   "outputs": [],
   "source": [
    "for param in model.parameters():\n",
    "    param.requires_grad = False"
   ]
  },
  {
   "cell_type": "code",
   "execution_count": null,
   "metadata": {
    "colab": {
     "base_uri": "https://localhost:8080/"
    },
    "id": "7kV8r7zj4_z5",
    "outputId": "c9cf6305-49df-43fb-ce66-5aaca1de794d"
   },
   "outputs": [],
   "source": [
    "num_classes = 2\n",
    "model.out_head = torch.nn.Linear(in_features=768, out_features=num_classes)\n",
    "print(model)\n",
    "#for block in model.h:\n",
    "#    block.attn.attn_dropout.p = 0.3     # Attention dropout\n",
    "#    block.attn.resid_dropout.p = 0.3    # Residual dropout\n",
    "#    block.mlp.dropout.p = 0.3           # MLP dropout"
   ]
  },
  {
   "cell_type": "code",
   "execution_count": null,
   "metadata": {
    "id": "E0I6TzuK4_3B"
   },
   "outputs": [],
   "source": [
    "# Unfreeze parameters of the last transformer block\n",
    "for param in model.h[-1].parameters():  # `h` is the list of transformer blocks\n",
    "    param.requires_grad = True\n",
    "\n",
    "# Unfreeze parameters of the final layer normalization\n",
    "for param in model.ln_f.parameters():  # `ln_f` is the final layer norm\n",
    "    param.requires_grad = True"
   ]
  },
  {
   "cell_type": "code",
   "execution_count": null,
   "metadata": {
    "colab": {
     "base_uri": "https://localhost:8080/"
    },
    "id": "V6ucIXKs4_55",
    "outputId": "0169dd9f-14de-40bf-bda0-4f9b6280f00f"
   },
   "outputs": [],
   "source": [
    "inputs = tokenizer.encode(\"Good day\")\n",
    "inputs = torch.tensor(inputs).unsqueeze(0)\n",
    "print(\"Inputs:\", inputs)\n",
    "print(\"Inputs dimensions:\", inputs.shape) # shape: (batch_size, num_tokens)"
   ]
  },
  {
   "cell_type": "code",
   "execution_count": null,
   "metadata": {
    "colab": {
     "base_uri": "https://localhost:8080/"
    },
    "id": "VtRTDsBg4_85",
    "outputId": "d839e6f5-f1d2-4008-a97f-00aad777a9e2"
   },
   "outputs": [],
   "source": [
    "with torch.no_grad():\n",
    "    outputs = model(inputs)\n",
    "\n",
    "hidden_states = outputs[0]  # shape: [1, 2, 768]\n",
    "logits = model.out_head(hidden_states)  # shape: [1, 2, 2]\n",
    "probas = torch.softmax(logits, dim=-1)\n",
    "print(\"Logits:\\n\", logits.shape)\n",
    "print('probas', probas)"
   ]
  },
  {
   "cell_type": "code",
   "execution_count": null,
   "metadata": {
    "colab": {
     "base_uri": "https://localhost:8080/"
    },
    "id": "QtJm9VPv4__5",
    "outputId": "3e5510b8-1295-466a-bd7e-f3381fb3f49a"
   },
   "outputs": [],
   "source": [
    "probas = torch.softmax(model.out_head(hidden_states)[:, -1, :], dim=-1)\n",
    "label = torch.argmax(probas)\n",
    "print(\"Class label:\", label.item())"
   ]
  },
  {
   "cell_type": "code",
   "execution_count": null,
   "metadata": {
    "id": "8ppP21XyetJN"
   },
   "outputs": [],
   "source": [
    "def calc_accuracy_loader(data_loader, model, num_batches=None):\n",
    "    model.eval()\n",
    "    correct_predictions, num_examples = 0, 0\n",
    "\n",
    "    if num_batches is None:\n",
    "        num_batches = len(data_loader)\n",
    "    else:\n",
    "        num_batches = min(num_batches, len(data_loader))\n",
    "    for i, (input_batch, target_batch) in enumerate(data_loader):\n",
    "        if i < num_batches:\n",
    "            with torch.no_grad():\n",
    "                outputs = model(input_batch)  # Logits of last output token\n",
    "            logits = model.out_head(outputs[0])  # shape: [batch_size, seq_len, 2]\n",
    "            logits_last = logits[:, -1, :]       # shape: [batch_size, 2]\n",
    "            probas = torch.softmax(logits_last, dim=-1)\n",
    "            predicted_labels = torch.argmax(probas, dim=1)  # shape: [batch_size]\n",
    "           #print(torch.argmax(probas), predicted_labels, target_batch)\n",
    "\n",
    "            correct_predictions += (predicted_labels == target_batch).sum().item()\n",
    "            num_examples += target_batch.size(0)\n",
    "        else:\n",
    "            break\n",
    "    return correct_predictions / num_examples"
   ]
  },
  {
   "cell_type": "code",
   "execution_count": null,
   "metadata": {
    "colab": {
     "base_uri": "https://localhost:8080/"
    },
    "id": "XmZCA-NvetMN",
    "outputId": "5db82617-b13f-4c7b-b24f-d99fe0e01a25"
   },
   "outputs": [],
   "source": [
    "# without finetuning the model\n",
    "train_accuracy = calc_accuracy_loader(train_loader, model, num_batches=10)\n",
    "test_accuracy = calc_accuracy_loader(test_loader, model, num_batches=10)\n",
    "\n",
    "print(f\"Training accuracy: {train_accuracy*100:.2f}%\")\n",
    "print(f\"Test accuracy: {test_accuracy*100:.2f}%\")"
   ]
  },
  {
   "cell_type": "code",
   "execution_count": null,
   "metadata": {
    "id": "uVui1CIxetPF"
   },
   "outputs": [],
   "source": [
    "def train_step(model, train_loader, optimizer):\n",
    "    train_losses, train_accs = 0, 0\n",
    "\n",
    "    # Main training loop\n",
    "    model.train()  # Set model to training mode\n",
    "    for input_batch, target_batch in train_loader:\n",
    "        y_pred = model(input_batch)\n",
    "        logits = model.out_head(y_pred[0])[:, -1, :]\n",
    "        loss = torch.nn.functional.cross_entropy(logits, target_batch)\n",
    "        train_losses+=loss.item()\n",
    "        optimizer.zero_grad() # Reset loss gradients from previous batch iteration\n",
    "        loss.backward() # Calculate loss gradients\n",
    "        optimizer.step() # Update model weights using loss gradients\n",
    "        probas = torch.softmax(logits, dim=-1)\n",
    "        predicted_labels = torch.argmax(probas, dim=1)\n",
    "        train_accs += (predicted_labels == target_batch).sum().item()/len(predicted_labels)\n",
    "    train_loss = train_losses / len(train_loader)\n",
    "    train_acc = train_accs / len(train_loader)\n",
    "    return train_loss, train_acc"
   ]
  },
  {
   "cell_type": "code",
   "execution_count": null,
   "metadata": {
    "id": "nGRJfov5r-47"
   },
   "outputs": [],
   "source": [
    "def test_step(model, test_loader):\n",
    "    # Put model in eval mode\n",
    "    model.eval()\n",
    "\n",
    "    # Setup test loss and test accuracy values\n",
    "    test_loss, test_acc = 0, 0\n",
    "\n",
    "    # Turn on inference context manager\n",
    "    with torch.inference_mode():\n",
    "        # Loop through DataLoader batches\n",
    "        for batch, (X, y) in enumerate(test_loader):\n",
    "            # Send data to target device\n",
    "\n",
    "            # 1. Forward pass\n",
    "            test_pred_logits = model(X)\n",
    "            logits = model.out_head(test_pred_logits[0])[:, -1, :]\n",
    "\n",
    "            # 2. Calculate and accumulate loss\n",
    "            loss = torch.nn.functional.cross_entropy(logits, y)\n",
    "            test_loss+=loss.item()\n",
    "\n",
    "            # Calculate and accumulate accuracy\n",
    "            probas = torch.softmax(logits, dim=-1)\n",
    "            test_pred_labels = torch.argmax(probas, dim=1)\n",
    "            test_acc += ((test_pred_labels == y).sum().item()/len(test_pred_labels))\n",
    "\n",
    "    # Adjust metrics to get average loss and accuracy per batch\n",
    "    test_loss = test_loss / len(test_loader)\n",
    "    test_acc = test_acc / len(test_loader)\n",
    "    return test_loss, test_acc\n"
   ]
  },
  {
   "cell_type": "code",
   "execution_count": null,
   "metadata": {
    "colab": {
     "base_uri": "https://localhost:8080/",
     "height": 153,
     "referenced_widgets": [
      "b1beb39bb25a449aae73454039d61678",
      "0566effc3ab84c3592b545e01e223eff",
      "7ce42180a0314f2f8371ad33d1d32331",
      "4ba11176d4324173809b755cddefce80",
      "95dd59f407a8412bb1db714065887191",
      "4fde2ed6241b45f796b4af2dcec0001b",
      "010b3df9db8543d9b9dfb4aa216a16e1",
      "d0a53313ac3e4539aab7091225e2302a",
      "9308ad22ded94694a5af33fefa4affab",
      "67112d6c78f943bda2c18648384c1725",
      "8eb5606b589048efb3f8943055f04ee9"
     ]
    },
    "id": "Oos89DntqiXl",
    "outputId": "74568763-8103-453c-a56d-ee9fa77b2ec4"
   },
   "outputs": [],
   "source": [
    "import time\n",
    "from tqdm.auto import tqdm\n",
    "start_time = time.time()\n",
    "optimizer = torch.optim.AdamW(model.parameters(), lr=1e-5, weight_decay=0.1)\n",
    "\n",
    "num_epochs = 5\n",
    "\n",
    "best_loss = float('inf')\n",
    "epochs_no_improve = 0\n",
    "patience = 2\n",
    "\n",
    "results = {\"train_loss\": [],\n",
    "    \"train_acc\": [],\n",
    "    \"test_loss\": [],\n",
    "    \"test_acc\": []\n",
    "}\n",
    "\n",
    "for epoch in tqdm(range(num_epochs)):\n",
    "    train_loss, train_acc = train_step(model, train_loader, optimizer)\n",
    "    test_loss, test_acc = test_step(model,test_loader)\n",
    "\n",
    "    print(\n",
    "        f\"Epoch: {epoch+1} | \"\n",
    "        f\"train_loss: {train_loss:.4f} | \"\n",
    "        f\"train_acc: {train_acc:.4f} | \"\n",
    "        f\"test_loss: {test_loss:.4f} | \"\n",
    "        f\"test_acc: {test_acc:.4f}\"\n",
    "    )\n",
    "\n",
    "\n",
    "    results[\"train_loss\"].append(train_loss.item() if isinstance(train_loss, torch.Tensor) else train_loss)\n",
    "    results[\"train_acc\"].append(train_acc.item() if isinstance(train_acc, torch.Tensor) else train_acc)\n",
    "    results[\"test_loss\"].append(test_loss.item() if isinstance(test_loss, torch.Tensor) else test_loss)\n",
    "    results[\"test_acc\"].append(test_acc.item() if isinstance(test_acc, torch.Tensor) else test_acc)\n",
    "\n",
    "    if test_loss < best_loss:\n",
    "        best_loss = test_loss\n",
    "        epochs_no_improve = 0\n",
    "    else:\n",
    "        epochs_no_improve += 1\n",
    "\n",
    "    if epochs_no_improve >= patience:\n",
    "        print(f\"\\nEarly stopping triggered after {epoch+1} epochs.\")\n",
    "        break\n",
    "\n",
    "end_time = time.time()\n",
    "execution_time_minutes = (end_time - start_time) / 60\n",
    "print(f\"Training completed in {execution_time_minutes:.2f} minutes.\")"
   ]
  },
  {
   "cell_type": "code",
   "execution_count": null,
   "metadata": {
    "colab": {
     "base_uri": "https://localhost:8080/",
     "height": 487
    },
    "id": "0rLBWhfjwE-n",
    "outputId": "98e888a7-73bb-4e5c-def7-22a4e61802f4"
   },
   "outputs": [],
   "source": [
    "from typing import Tuple, Dict, List\n",
    "import matplotlib.pyplot as plt\n",
    "def plot_loss_curves(results):\n",
    "\n",
    "    # Get the loss values of the results dictionary (training and test)\n",
    "    loss = results['train_loss']\n",
    "    test_loss = results['test_loss']\n",
    "\n",
    "    # Get the accuracy values of the results dictionary (training and test)\n",
    "    accuracy = results['train_acc']\n",
    "    test_accuracy = results['test_acc']\n",
    "\n",
    "    # Figure out how many epochs there were\n",
    "    epochs = range(len(results['train_loss']))\n",
    "\n",
    "    # Setup a plot\n",
    "    plt.figure(figsize=(10, 5))\n",
    "\n",
    "    # Plot loss\n",
    "    plt.subplot(1, 2, 1)\n",
    "    plt.plot(epochs, loss, label='train_loss')\n",
    "    plt.plot(epochs, test_loss, label='test_loss')\n",
    "    plt.title('Loss')\n",
    "    plt.xlabel('Epochs')\n",
    "    plt.legend()\n",
    "\n",
    "    # Plot accuracy\n",
    "    plt.subplot(1, 2, 2)\n",
    "    plt.plot(epochs, accuracy, label='train_accuracy')\n",
    "    plt.plot(epochs, test_accuracy, label='test_accuracy')\n",
    "    plt.title('Accuracy')\n",
    "    plt.xlabel('Epochs')\n",
    "    plt.legend();\n",
    "\n",
    "\n",
    "plot_loss_curves(results)"
   ]
  },
  {
   "cell_type": "code",
   "execution_count": null,
   "metadata": {
    "id": "hXvrP_mV-Ns3"
   },
   "outputs": [],
   "source": [
    "def classify_review(text, model, tokenizer, max_length=None, pad_token_id=50256):\n",
    "    model.eval()\n",
    "\n",
    "    # Prepare inputs to the model\n",
    "    input_ids = tokenizer.encode(text)\n",
    "    supported_context_length = model.wpe.weight.shape[0]\n",
    "    # Truncate sequences if they too long\n",
    "    input_ids = input_ids[:min(max_length, supported_context_length)]\n",
    "\n",
    "    # Pad sequences to the longest sequence\n",
    "    input_ids += [pad_token_id] * (max_length - len(input_ids))\n",
    "    input_tensor = torch.tensor(input_ids).unsqueeze(0) # add batch dimension\n",
    "\n",
    "    # Model inference\n",
    "    with torch.no_grad():\n",
    "        outputs = model(input_tensor)  # Logits of last output token\n",
    "    logits = model.out_head(outputs[0])  # shape: [batch_size, seq_len, 2]\n",
    "    logits_last = logits[:, -1, :]\n",
    "    predicted_label = torch.argmax(logits_last, dim=-1).item()\n",
    "\n",
    "    # Return the classified result\n",
    "    return predicted_label#\"spam\" if predicted_label == 0 else \"not spam\""
   ]
  },
  {
   "cell_type": "code",
   "execution_count": null,
   "metadata": {
    "colab": {
     "base_uri": "https://localhost:8080/",
     "height": 564
    },
    "id": "mN6TAUADIk6X",
    "outputId": "13aa6699-db3a-42ea-ccc0-80320d4af8b2"
   },
   "outputs": [],
   "source": [
    "y_true_list =[]\n",
    "y_pred_list =[]\n",
    "for ind, class_msg in val_df.iterrows():\n",
    "    y_true_list.append(class_msg['Category'])\n",
    "    y_pred_list.append(classify_review(class_msg['Message'], model, tokenizer, max_length=train_dataset.max_length))\n",
    "    #print(class_msg['Category'],classify_review(class_msg['Message'], model, tokenizer, max_length=train_dataset.max_length))\n",
    "from sklearn.metrics import confusion_matrix\n",
    "import seaborn as sns\n",
    "# Get the confusion matrix\n",
    "cm = confusion_matrix(y_true_list, y_pred_list)\n",
    "target_names = ['Spam', 'Not Spam']\n",
    "\n",
    "# Plot the confusion matrix\n",
    "plt.figure(figsize=(7, 6))\n",
    "sns.heatmap(cm, annot=True, fmt='g', cmap='Blues', xticklabels=target_names, yticklabels=target_names)\n",
    "plt.xlabel('Predicted labels')\n",
    "plt.ylabel('True labels')\n",
    "plt.title('Confusion Matrix')\n",
    "plt.show()"
   ]
  },
  {
   "cell_type": "code",
   "execution_count": null,
   "metadata": {
    "colab": {
     "base_uri": "https://localhost:8080/"
    },
    "id": "m4xB1AVl-Nvo",
    "outputId": "90c9814e-43ba-4f18-ea62-c2ca1d1bd9e6"
   },
   "outputs": [],
   "source": [
    "text_1 = (\n",
    "    \"You are a winner you have been specially\"\n",
    "    \" selected to receive $1000 cash or a $2000 award.\"\n",
    ")\n",
    "\n",
    "print(classify_review(\n",
    "    text_1, model, tokenizer, max_length=train_dataset.max_length\n",
    "))"
   ]
  },
  {
   "cell_type": "code",
   "execution_count": null,
   "metadata": {
    "colab": {
     "base_uri": "https://localhost:8080/"
    },
    "id": "7aNu2c3b92PI",
    "outputId": "418845d7-2182-4e78-a2b4-01dd0ef2f29b"
   },
   "outputs": [],
   "source": [
    "text_2 = (\n",
    "    \"Hey, just wanted to check if we're still on\"\n",
    "    \" for dinner tonight? Let me know!\"\n",
    ")\n",
    "\n",
    "print(classify_review(\n",
    "    text_2, model, tokenizer, max_length=train_dataset.max_length\n",
    "))"
   ]
  },
  {
   "cell_type": "code",
   "execution_count": null,
   "metadata": {
    "id": "ve4WT4Hl1ZiQ"
   },
   "outputs": [],
   "source": [
    "torch.save(model.state_dict(), \"spam_classifier.pth\")"
   ]
  },
  {
   "cell_type": "code",
   "execution_count": null,
   "metadata": {
    "id": "VswO2tqTU3_M"
   },
   "outputs": [],
   "source": [
    "# Save model\n",
    "model_save_path = \"./custom_gpt2_classifier\"\n",
    "torch.save(model.state_dict(), f\"{model_save_path}/pytorch_model.bin\")"
   ]
  },
  {
   "cell_type": "code",
   "execution_count": null,
   "metadata": {
    "id": "vhzGMc4AU6Xj"
   },
   "outputs": [],
   "source": [
    "\n",
    "model_state_dict = torch.load(\"spam_classifier.pth\", weights_only=True)\n",
    "model.load_state_dict(model_state_dict)"
   ]
  }
 ],
 "metadata": {
  "colab": {
   "provenance": []
  },
  "kernelspec": {
   "display_name": "Python 3 (ipykernel)",
   "language": "python",
   "name": "python3"
  },
  "language_info": {
   "codemirror_mode": {
    "name": "ipython",
    "version": 3
   },
   "file_extension": ".py",
   "mimetype": "text/x-python",
   "name": "python",
   "nbconvert_exporter": "python",
   "pygments_lexer": "ipython3",
   "version": "3.7.0"
  },
  "widgets": {
   "application/vnd.jupyter.widget-state+json": {
    "002f7acedceb465698b209beefe3fb4a": {
     "model_module": "@jupyter-widgets/controls",
     "model_module_version": "1.5.0",
     "model_name": "HBoxModel",
     "state": {
      "_dom_classes": [],
      "_model_module": "@jupyter-widgets/controls",
      "_model_module_version": "1.5.0",
      "_model_name": "HBoxModel",
      "_view_count": null,
      "_view_module": "@jupyter-widgets/controls",
      "_view_module_version": "1.5.0",
      "_view_name": "HBoxView",
      "box_style": "",
      "children": [
       "IPY_MODEL_2592ee4054ba484097799a8b214f9256",
       "IPY_MODEL_34c9350a3b494bfb964eaeec1dc45ebf",
       "IPY_MODEL_dc921f69a3b548c8941c87895a3ac43c"
      ],
      "layout": "IPY_MODEL_02d284ce7271468da6268917a8ac6ba4"
     }
    },
    "010b3df9db8543d9b9dfb4aa216a16e1": {
     "model_module": "@jupyter-widgets/controls",
     "model_module_version": "1.5.0",
     "model_name": "DescriptionStyleModel",
     "state": {
      "_model_module": "@jupyter-widgets/controls",
      "_model_module_version": "1.5.0",
      "_model_name": "DescriptionStyleModel",
      "_view_count": null,
      "_view_module": "@jupyter-widgets/base",
      "_view_module_version": "1.2.0",
      "_view_name": "StyleView",
      "description_width": ""
     }
    },
    "02d284ce7271468da6268917a8ac6ba4": {
     "model_module": "@jupyter-widgets/base",
     "model_module_version": "1.2.0",
     "model_name": "LayoutModel",
     "state": {
      "_model_module": "@jupyter-widgets/base",
      "_model_module_version": "1.2.0",
      "_model_name": "LayoutModel",
      "_view_count": null,
      "_view_module": "@jupyter-widgets/base",
      "_view_module_version": "1.2.0",
      "_view_name": "LayoutView",
      "align_content": null,
      "align_items": null,
      "align_self": null,
      "border": null,
      "bottom": null,
      "display": null,
      "flex": null,
      "flex_flow": null,
      "grid_area": null,
      "grid_auto_columns": null,
      "grid_auto_flow": null,
      "grid_auto_rows": null,
      "grid_column": null,
      "grid_gap": null,
      "grid_row": null,
      "grid_template_areas": null,
      "grid_template_columns": null,
      "grid_template_rows": null,
      "height": null,
      "justify_content": null,
      "justify_items": null,
      "left": null,
      "margin": null,
      "max_height": null,
      "max_width": null,
      "min_height": null,
      "min_width": null,
      "object_fit": null,
      "object_position": null,
      "order": null,
      "overflow": null,
      "overflow_x": null,
      "overflow_y": null,
      "padding": null,
      "right": null,
      "top": null,
      "visibility": null,
      "width": null
     }
    },
    "0566effc3ab84c3592b545e01e223eff": {
     "model_module": "@jupyter-widgets/controls",
     "model_module_version": "1.5.0",
     "model_name": "HTMLModel",
     "state": {
      "_dom_classes": [],
      "_model_module": "@jupyter-widgets/controls",
      "_model_module_version": "1.5.0",
      "_model_name": "HTMLModel",
      "_view_count": null,
      "_view_module": "@jupyter-widgets/controls",
      "_view_module_version": "1.5.0",
      "_view_name": "HTMLView",
      "description": "",
      "description_tooltip": null,
      "layout": "IPY_MODEL_4fde2ed6241b45f796b4af2dcec0001b",
      "placeholder": "​",
      "style": "IPY_MODEL_010b3df9db8543d9b9dfb4aa216a16e1",
      "value": " 40%"
     }
    },
    "23d6ddca225745fe8f6c54679847c303": {
     "model_module": "@jupyter-widgets/controls",
     "model_module_version": "1.5.0",
     "model_name": "DescriptionStyleModel",
     "state": {
      "_model_module": "@jupyter-widgets/controls",
      "_model_module_version": "1.5.0",
      "_model_name": "DescriptionStyleModel",
      "_view_count": null,
      "_view_module": "@jupyter-widgets/base",
      "_view_module_version": "1.2.0",
      "_view_name": "StyleView",
      "description_width": ""
     }
    },
    "2451aea327db42759a5efc567e725f54": {
     "model_module": "@jupyter-widgets/controls",
     "model_module_version": "1.5.0",
     "model_name": "DescriptionStyleModel",
     "state": {
      "_model_module": "@jupyter-widgets/controls",
      "_model_module_version": "1.5.0",
      "_model_name": "DescriptionStyleModel",
      "_view_count": null,
      "_view_module": "@jupyter-widgets/base",
      "_view_module_version": "1.2.0",
      "_view_name": "StyleView",
      "description_width": ""
     }
    },
    "2592ee4054ba484097799a8b214f9256": {
     "model_module": "@jupyter-widgets/controls",
     "model_module_version": "1.5.0",
     "model_name": "HTMLModel",
     "state": {
      "_dom_classes": [],
      "_model_module": "@jupyter-widgets/controls",
      "_model_module_version": "1.5.0",
      "_model_name": "HTMLModel",
      "_view_count": null,
      "_view_module": "@jupyter-widgets/controls",
      "_view_module_version": "1.5.0",
      "_view_name": "HTMLView",
      "description": "",
      "description_tooltip": null,
      "layout": "IPY_MODEL_ccb0f2de8fa44b57a5ee20ff3a4e1459",
      "placeholder": "​",
      "style": "IPY_MODEL_99a5d36304b24aee8aaa0ae1edc9a7a2",
      "value": "config.json: 100%"
     }
    },
    "34aa2e2b5ea14743aae476e6b7420711": {
     "model_module": "@jupyter-widgets/base",
     "model_module_version": "1.2.0",
     "model_name": "LayoutModel",
     "state": {
      "_model_module": "@jupyter-widgets/base",
      "_model_module_version": "1.2.0",
      "_model_name": "LayoutModel",
      "_view_count": null,
      "_view_module": "@jupyter-widgets/base",
      "_view_module_version": "1.2.0",
      "_view_name": "LayoutView",
      "align_content": null,
      "align_items": null,
      "align_self": null,
      "border": null,
      "bottom": null,
      "display": null,
      "flex": null,
      "flex_flow": null,
      "grid_area": null,
      "grid_auto_columns": null,
      "grid_auto_flow": null,
      "grid_auto_rows": null,
      "grid_column": null,
      "grid_gap": null,
      "grid_row": null,
      "grid_template_areas": null,
      "grid_template_columns": null,
      "grid_template_rows": null,
      "height": null,
      "justify_content": null,
      "justify_items": null,
      "left": null,
      "margin": null,
      "max_height": null,
      "max_width": null,
      "min_height": null,
      "min_width": null,
      "object_fit": null,
      "object_position": null,
      "order": null,
      "overflow": null,
      "overflow_x": null,
      "overflow_y": null,
      "padding": null,
      "right": null,
      "top": null,
      "visibility": null,
      "width": null
     }
    },
    "34b2eaaa956045fcba8d827dfffbb5e1": {
     "model_module": "@jupyter-widgets/base",
     "model_module_version": "1.2.0",
     "model_name": "LayoutModel",
     "state": {
      "_model_module": "@jupyter-widgets/base",
      "_model_module_version": "1.2.0",
      "_model_name": "LayoutModel",
      "_view_count": null,
      "_view_module": "@jupyter-widgets/base",
      "_view_module_version": "1.2.0",
      "_view_name": "LayoutView",
      "align_content": null,
      "align_items": null,
      "align_self": null,
      "border": null,
      "bottom": null,
      "display": null,
      "flex": null,
      "flex_flow": null,
      "grid_area": null,
      "grid_auto_columns": null,
      "grid_auto_flow": null,
      "grid_auto_rows": null,
      "grid_column": null,
      "grid_gap": null,
      "grid_row": null,
      "grid_template_areas": null,
      "grid_template_columns": null,
      "grid_template_rows": null,
      "height": null,
      "justify_content": null,
      "justify_items": null,
      "left": null,
      "margin": null,
      "max_height": null,
      "max_width": null,
      "min_height": null,
      "min_width": null,
      "object_fit": null,
      "object_position": null,
      "order": null,
      "overflow": null,
      "overflow_x": null,
      "overflow_y": null,
      "padding": null,
      "right": null,
      "top": null,
      "visibility": null,
      "width": null
     }
    },
    "34c9350a3b494bfb964eaeec1dc45ebf": {
     "model_module": "@jupyter-widgets/controls",
     "model_module_version": "1.5.0",
     "model_name": "FloatProgressModel",
     "state": {
      "_dom_classes": [],
      "_model_module": "@jupyter-widgets/controls",
      "_model_module_version": "1.5.0",
      "_model_name": "FloatProgressModel",
      "_view_count": null,
      "_view_module": "@jupyter-widgets/controls",
      "_view_module_version": "1.5.0",
      "_view_name": "ProgressView",
      "bar_style": "success",
      "description": "",
      "description_tooltip": null,
      "layout": "IPY_MODEL_f639e3ac7045487b94f1d68ea72013dc",
      "max": 665,
      "min": 0,
      "orientation": "horizontal",
      "style": "IPY_MODEL_db2f16424867478a8bef5873cb83cf16",
      "value": 665
     }
    },
    "4ba11176d4324173809b755cddefce80": {
     "model_module": "@jupyter-widgets/controls",
     "model_module_version": "1.5.0",
     "model_name": "HTMLModel",
     "state": {
      "_dom_classes": [],
      "_model_module": "@jupyter-widgets/controls",
      "_model_module_version": "1.5.0",
      "_model_name": "HTMLModel",
      "_view_count": null,
      "_view_module": "@jupyter-widgets/controls",
      "_view_module_version": "1.5.0",
      "_view_name": "HTMLView",
      "description": "",
      "description_tooltip": null,
      "layout": "IPY_MODEL_67112d6c78f943bda2c18648384c1725",
      "placeholder": "​",
      "style": "IPY_MODEL_8eb5606b589048efb3f8943055f04ee9",
      "value": " 2/5 [4:48:17&lt;4:48:23, 5767.77s/it]"
     }
    },
    "4fde2ed6241b45f796b4af2dcec0001b": {
     "model_module": "@jupyter-widgets/base",
     "model_module_version": "1.2.0",
     "model_name": "LayoutModel",
     "state": {
      "_model_module": "@jupyter-widgets/base",
      "_model_module_version": "1.2.0",
      "_model_name": "LayoutModel",
      "_view_count": null,
      "_view_module": "@jupyter-widgets/base",
      "_view_module_version": "1.2.0",
      "_view_name": "LayoutView",
      "align_content": null,
      "align_items": null,
      "align_self": null,
      "border": null,
      "bottom": null,
      "display": null,
      "flex": null,
      "flex_flow": null,
      "grid_area": null,
      "grid_auto_columns": null,
      "grid_auto_flow": null,
      "grid_auto_rows": null,
      "grid_column": null,
      "grid_gap": null,
      "grid_row": null,
      "grid_template_areas": null,
      "grid_template_columns": null,
      "grid_template_rows": null,
      "height": null,
      "justify_content": null,
      "justify_items": null,
      "left": null,
      "margin": null,
      "max_height": null,
      "max_width": null,
      "min_height": null,
      "min_width": null,
      "object_fit": null,
      "object_position": null,
      "order": null,
      "overflow": null,
      "overflow_x": null,
      "overflow_y": null,
      "padding": null,
      "right": null,
      "top": null,
      "visibility": null,
      "width": null
     }
    },
    "67112d6c78f943bda2c18648384c1725": {
     "model_module": "@jupyter-widgets/base",
     "model_module_version": "1.2.0",
     "model_name": "LayoutModel",
     "state": {
      "_model_module": "@jupyter-widgets/base",
      "_model_module_version": "1.2.0",
      "_model_name": "LayoutModel",
      "_view_count": null,
      "_view_module": "@jupyter-widgets/base",
      "_view_module_version": "1.2.0",
      "_view_name": "LayoutView",
      "align_content": null,
      "align_items": null,
      "align_self": null,
      "border": null,
      "bottom": null,
      "display": null,
      "flex": null,
      "flex_flow": null,
      "grid_area": null,
      "grid_auto_columns": null,
      "grid_auto_flow": null,
      "grid_auto_rows": null,
      "grid_column": null,
      "grid_gap": null,
      "grid_row": null,
      "grid_template_areas": null,
      "grid_template_columns": null,
      "grid_template_rows": null,
      "height": null,
      "justify_content": null,
      "justify_items": null,
      "left": null,
      "margin": null,
      "max_height": null,
      "max_width": null,
      "min_height": null,
      "min_width": null,
      "object_fit": null,
      "object_position": null,
      "order": null,
      "overflow": null,
      "overflow_x": null,
      "overflow_y": null,
      "padding": null,
      "right": null,
      "top": null,
      "visibility": null,
      "width": null
     }
    },
    "7a25c3b23b024525ba99767210d51586": {
     "model_module": "@jupyter-widgets/controls",
     "model_module_version": "1.5.0",
     "model_name": "HBoxModel",
     "state": {
      "_dom_classes": [],
      "_model_module": "@jupyter-widgets/controls",
      "_model_module_version": "1.5.0",
      "_model_name": "HBoxModel",
      "_view_count": null,
      "_view_module": "@jupyter-widgets/controls",
      "_view_module_version": "1.5.0",
      "_view_name": "HBoxView",
      "box_style": "",
      "children": [
       "IPY_MODEL_f1df1ac19ad048618c52d70101a58472",
       "IPY_MODEL_f2b757b0781e44a7982aebaf1b34ddd6",
       "IPY_MODEL_bfbe4c357735461b927d2df0b72f0e4f"
      ],
      "layout": "IPY_MODEL_34aa2e2b5ea14743aae476e6b7420711"
     }
    },
    "7ce42180a0314f2f8371ad33d1d32331": {
     "model_module": "@jupyter-widgets/controls",
     "model_module_version": "1.5.0",
     "model_name": "FloatProgressModel",
     "state": {
      "_dom_classes": [],
      "_model_module": "@jupyter-widgets/controls",
      "_model_module_version": "1.5.0",
      "_model_name": "FloatProgressModel",
      "_view_count": null,
      "_view_module": "@jupyter-widgets/controls",
      "_view_module_version": "1.5.0",
      "_view_name": "ProgressView",
      "bar_style": "danger",
      "description": "",
      "description_tooltip": null,
      "layout": "IPY_MODEL_d0a53313ac3e4539aab7091225e2302a",
      "max": 5,
      "min": 0,
      "orientation": "horizontal",
      "style": "IPY_MODEL_9308ad22ded94694a5af33fefa4affab",
      "value": 2
     }
    },
    "8eb5606b589048efb3f8943055f04ee9": {
     "model_module": "@jupyter-widgets/controls",
     "model_module_version": "1.5.0",
     "model_name": "DescriptionStyleModel",
     "state": {
      "_model_module": "@jupyter-widgets/controls",
      "_model_module_version": "1.5.0",
      "_model_name": "DescriptionStyleModel",
      "_view_count": null,
      "_view_module": "@jupyter-widgets/base",
      "_view_module_version": "1.2.0",
      "_view_name": "StyleView",
      "description_width": ""
     }
    },
    "9308ad22ded94694a5af33fefa4affab": {
     "model_module": "@jupyter-widgets/controls",
     "model_module_version": "1.5.0",
     "model_name": "ProgressStyleModel",
     "state": {
      "_model_module": "@jupyter-widgets/controls",
      "_model_module_version": "1.5.0",
      "_model_name": "ProgressStyleModel",
      "_view_count": null,
      "_view_module": "@jupyter-widgets/base",
      "_view_module_version": "1.2.0",
      "_view_name": "StyleView",
      "bar_color": null,
      "description_width": ""
     }
    },
    "941a997e62e74adca0ae0e6802646f99": {
     "model_module": "@jupyter-widgets/base",
     "model_module_version": "1.2.0",
     "model_name": "LayoutModel",
     "state": {
      "_model_module": "@jupyter-widgets/base",
      "_model_module_version": "1.2.0",
      "_model_name": "LayoutModel",
      "_view_count": null,
      "_view_module": "@jupyter-widgets/base",
      "_view_module_version": "1.2.0",
      "_view_name": "LayoutView",
      "align_content": null,
      "align_items": null,
      "align_self": null,
      "border": null,
      "bottom": null,
      "display": null,
      "flex": null,
      "flex_flow": null,
      "grid_area": null,
      "grid_auto_columns": null,
      "grid_auto_flow": null,
      "grid_auto_rows": null,
      "grid_column": null,
      "grid_gap": null,
      "grid_row": null,
      "grid_template_areas": null,
      "grid_template_columns": null,
      "grid_template_rows": null,
      "height": null,
      "justify_content": null,
      "justify_items": null,
      "left": null,
      "margin": null,
      "max_height": null,
      "max_width": null,
      "min_height": null,
      "min_width": null,
      "object_fit": null,
      "object_position": null,
      "order": null,
      "overflow": null,
      "overflow_x": null,
      "overflow_y": null,
      "padding": null,
      "right": null,
      "top": null,
      "visibility": null,
      "width": null
     }
    },
    "95dd59f407a8412bb1db714065887191": {
     "model_module": "@jupyter-widgets/base",
     "model_module_version": "1.2.0",
     "model_name": "LayoutModel",
     "state": {
      "_model_module": "@jupyter-widgets/base",
      "_model_module_version": "1.2.0",
      "_model_name": "LayoutModel",
      "_view_count": null,
      "_view_module": "@jupyter-widgets/base",
      "_view_module_version": "1.2.0",
      "_view_name": "LayoutView",
      "align_content": null,
      "align_items": null,
      "align_self": null,
      "border": null,
      "bottom": null,
      "display": null,
      "flex": null,
      "flex_flow": null,
      "grid_area": null,
      "grid_auto_columns": null,
      "grid_auto_flow": null,
      "grid_auto_rows": null,
      "grid_column": null,
      "grid_gap": null,
      "grid_row": null,
      "grid_template_areas": null,
      "grid_template_columns": null,
      "grid_template_rows": null,
      "height": null,
      "justify_content": null,
      "justify_items": null,
      "left": null,
      "margin": null,
      "max_height": null,
      "max_width": null,
      "min_height": null,
      "min_width": null,
      "object_fit": null,
      "object_position": null,
      "order": null,
      "overflow": null,
      "overflow_x": null,
      "overflow_y": null,
      "padding": null,
      "right": null,
      "top": null,
      "visibility": null,
      "width": null
     }
    },
    "99a5d36304b24aee8aaa0ae1edc9a7a2": {
     "model_module": "@jupyter-widgets/controls",
     "model_module_version": "1.5.0",
     "model_name": "DescriptionStyleModel",
     "state": {
      "_model_module": "@jupyter-widgets/controls",
      "_model_module_version": "1.5.0",
      "_model_name": "DescriptionStyleModel",
      "_view_count": null,
      "_view_module": "@jupyter-widgets/base",
      "_view_module_version": "1.2.0",
      "_view_name": "StyleView",
      "description_width": ""
     }
    },
    "a748abb4d05f4f8c92860d78f6ae5464": {
     "model_module": "@jupyter-widgets/controls",
     "model_module_version": "1.5.0",
     "model_name": "DescriptionStyleModel",
     "state": {
      "_model_module": "@jupyter-widgets/controls",
      "_model_module_version": "1.5.0",
      "_model_name": "DescriptionStyleModel",
      "_view_count": null,
      "_view_module": "@jupyter-widgets/base",
      "_view_module_version": "1.2.0",
      "_view_name": "StyleView",
      "description_width": ""
     }
    },
    "ab23ddde179543acba5012a2f7b14fd1": {
     "model_module": "@jupyter-widgets/base",
     "model_module_version": "1.2.0",
     "model_name": "LayoutModel",
     "state": {
      "_model_module": "@jupyter-widgets/base",
      "_model_module_version": "1.2.0",
      "_model_name": "LayoutModel",
      "_view_count": null,
      "_view_module": "@jupyter-widgets/base",
      "_view_module_version": "1.2.0",
      "_view_name": "LayoutView",
      "align_content": null,
      "align_items": null,
      "align_self": null,
      "border": null,
      "bottom": null,
      "display": null,
      "flex": null,
      "flex_flow": null,
      "grid_area": null,
      "grid_auto_columns": null,
      "grid_auto_flow": null,
      "grid_auto_rows": null,
      "grid_column": null,
      "grid_gap": null,
      "grid_row": null,
      "grid_template_areas": null,
      "grid_template_columns": null,
      "grid_template_rows": null,
      "height": null,
      "justify_content": null,
      "justify_items": null,
      "left": null,
      "margin": null,
      "max_height": null,
      "max_width": null,
      "min_height": null,
      "min_width": null,
      "object_fit": null,
      "object_position": null,
      "order": null,
      "overflow": null,
      "overflow_x": null,
      "overflow_y": null,
      "padding": null,
      "right": null,
      "top": null,
      "visibility": null,
      "width": null
     }
    },
    "b1beb39bb25a449aae73454039d61678": {
     "model_module": "@jupyter-widgets/controls",
     "model_module_version": "1.5.0",
     "model_name": "HBoxModel",
     "state": {
      "_dom_classes": [],
      "_model_module": "@jupyter-widgets/controls",
      "_model_module_version": "1.5.0",
      "_model_name": "HBoxModel",
      "_view_count": null,
      "_view_module": "@jupyter-widgets/controls",
      "_view_module_version": "1.5.0",
      "_view_name": "HBoxView",
      "box_style": "",
      "children": [
       "IPY_MODEL_0566effc3ab84c3592b545e01e223eff",
       "IPY_MODEL_7ce42180a0314f2f8371ad33d1d32331",
       "IPY_MODEL_4ba11176d4324173809b755cddefce80"
      ],
      "layout": "IPY_MODEL_95dd59f407a8412bb1db714065887191"
     }
    },
    "bfbe4c357735461b927d2df0b72f0e4f": {
     "model_module": "@jupyter-widgets/controls",
     "model_module_version": "1.5.0",
     "model_name": "HTMLModel",
     "state": {
      "_dom_classes": [],
      "_model_module": "@jupyter-widgets/controls",
      "_model_module_version": "1.5.0",
      "_model_name": "HTMLModel",
      "_view_count": null,
      "_view_module": "@jupyter-widgets/controls",
      "_view_module_version": "1.5.0",
      "_view_name": "HTMLView",
      "description": "",
      "description_tooltip": null,
      "layout": "IPY_MODEL_ab23ddde179543acba5012a2f7b14fd1",
      "placeholder": "​",
      "style": "IPY_MODEL_23d6ddca225745fe8f6c54679847c303",
      "value": " 548M/548M [00:08&lt;00:00, 124MB/s]"
     }
    },
    "ccb0f2de8fa44b57a5ee20ff3a4e1459": {
     "model_module": "@jupyter-widgets/base",
     "model_module_version": "1.2.0",
     "model_name": "LayoutModel",
     "state": {
      "_model_module": "@jupyter-widgets/base",
      "_model_module_version": "1.2.0",
      "_model_name": "LayoutModel",
      "_view_count": null,
      "_view_module": "@jupyter-widgets/base",
      "_view_module_version": "1.2.0",
      "_view_name": "LayoutView",
      "align_content": null,
      "align_items": null,
      "align_self": null,
      "border": null,
      "bottom": null,
      "display": null,
      "flex": null,
      "flex_flow": null,
      "grid_area": null,
      "grid_auto_columns": null,
      "grid_auto_flow": null,
      "grid_auto_rows": null,
      "grid_column": null,
      "grid_gap": null,
      "grid_row": null,
      "grid_template_areas": null,
      "grid_template_columns": null,
      "grid_template_rows": null,
      "height": null,
      "justify_content": null,
      "justify_items": null,
      "left": null,
      "margin": null,
      "max_height": null,
      "max_width": null,
      "min_height": null,
      "min_width": null,
      "object_fit": null,
      "object_position": null,
      "order": null,
      "overflow": null,
      "overflow_x": null,
      "overflow_y": null,
      "padding": null,
      "right": null,
      "top": null,
      "visibility": null,
      "width": null
     }
    },
    "d01078b169944f25a5a1802ed83de312": {
     "model_module": "@jupyter-widgets/base",
     "model_module_version": "1.2.0",
     "model_name": "LayoutModel",
     "state": {
      "_model_module": "@jupyter-widgets/base",
      "_model_module_version": "1.2.0",
      "_model_name": "LayoutModel",
      "_view_count": null,
      "_view_module": "@jupyter-widgets/base",
      "_view_module_version": "1.2.0",
      "_view_name": "LayoutView",
      "align_content": null,
      "align_items": null,
      "align_self": null,
      "border": null,
      "bottom": null,
      "display": null,
      "flex": null,
      "flex_flow": null,
      "grid_area": null,
      "grid_auto_columns": null,
      "grid_auto_flow": null,
      "grid_auto_rows": null,
      "grid_column": null,
      "grid_gap": null,
      "grid_row": null,
      "grid_template_areas": null,
      "grid_template_columns": null,
      "grid_template_rows": null,
      "height": null,
      "justify_content": null,
      "justify_items": null,
      "left": null,
      "margin": null,
      "max_height": null,
      "max_width": null,
      "min_height": null,
      "min_width": null,
      "object_fit": null,
      "object_position": null,
      "order": null,
      "overflow": null,
      "overflow_x": null,
      "overflow_y": null,
      "padding": null,
      "right": null,
      "top": null,
      "visibility": null,
      "width": null
     }
    },
    "d0a53313ac3e4539aab7091225e2302a": {
     "model_module": "@jupyter-widgets/base",
     "model_module_version": "1.2.0",
     "model_name": "LayoutModel",
     "state": {
      "_model_module": "@jupyter-widgets/base",
      "_model_module_version": "1.2.0",
      "_model_name": "LayoutModel",
      "_view_count": null,
      "_view_module": "@jupyter-widgets/base",
      "_view_module_version": "1.2.0",
      "_view_name": "LayoutView",
      "align_content": null,
      "align_items": null,
      "align_self": null,
      "border": null,
      "bottom": null,
      "display": null,
      "flex": null,
      "flex_flow": null,
      "grid_area": null,
      "grid_auto_columns": null,
      "grid_auto_flow": null,
      "grid_auto_rows": null,
      "grid_column": null,
      "grid_gap": null,
      "grid_row": null,
      "grid_template_areas": null,
      "grid_template_columns": null,
      "grid_template_rows": null,
      "height": null,
      "justify_content": null,
      "justify_items": null,
      "left": null,
      "margin": null,
      "max_height": null,
      "max_width": null,
      "min_height": null,
      "min_width": null,
      "object_fit": null,
      "object_position": null,
      "order": null,
      "overflow": null,
      "overflow_x": null,
      "overflow_y": null,
      "padding": null,
      "right": null,
      "top": null,
      "visibility": null,
      "width": null
     }
    },
    "db2f16424867478a8bef5873cb83cf16": {
     "model_module": "@jupyter-widgets/controls",
     "model_module_version": "1.5.0",
     "model_name": "ProgressStyleModel",
     "state": {
      "_model_module": "@jupyter-widgets/controls",
      "_model_module_version": "1.5.0",
      "_model_name": "ProgressStyleModel",
      "_view_count": null,
      "_view_module": "@jupyter-widgets/base",
      "_view_module_version": "1.2.0",
      "_view_name": "StyleView",
      "bar_color": null,
      "description_width": ""
     }
    },
    "dc921f69a3b548c8941c87895a3ac43c": {
     "model_module": "@jupyter-widgets/controls",
     "model_module_version": "1.5.0",
     "model_name": "HTMLModel",
     "state": {
      "_dom_classes": [],
      "_model_module": "@jupyter-widgets/controls",
      "_model_module_version": "1.5.0",
      "_model_name": "HTMLModel",
      "_view_count": null,
      "_view_module": "@jupyter-widgets/controls",
      "_view_module_version": "1.5.0",
      "_view_name": "HTMLView",
      "description": "",
      "description_tooltip": null,
      "layout": "IPY_MODEL_941a997e62e74adca0ae0e6802646f99",
      "placeholder": "​",
      "style": "IPY_MODEL_2451aea327db42759a5efc567e725f54",
      "value": " 665/665 [00:00&lt;00:00, 39.6kB/s]"
     }
    },
    "f1df1ac19ad048618c52d70101a58472": {
     "model_module": "@jupyter-widgets/controls",
     "model_module_version": "1.5.0",
     "model_name": "HTMLModel",
     "state": {
      "_dom_classes": [],
      "_model_module": "@jupyter-widgets/controls",
      "_model_module_version": "1.5.0",
      "_model_name": "HTMLModel",
      "_view_count": null,
      "_view_module": "@jupyter-widgets/controls",
      "_view_module_version": "1.5.0",
      "_view_name": "HTMLView",
      "description": "",
      "description_tooltip": null,
      "layout": "IPY_MODEL_34b2eaaa956045fcba8d827dfffbb5e1",
      "placeholder": "​",
      "style": "IPY_MODEL_a748abb4d05f4f8c92860d78f6ae5464",
      "value": "model.safetensors: 100%"
     }
    },
    "f2b757b0781e44a7982aebaf1b34ddd6": {
     "model_module": "@jupyter-widgets/controls",
     "model_module_version": "1.5.0",
     "model_name": "FloatProgressModel",
     "state": {
      "_dom_classes": [],
      "_model_module": "@jupyter-widgets/controls",
      "_model_module_version": "1.5.0",
      "_model_name": "FloatProgressModel",
      "_view_count": null,
      "_view_module": "@jupyter-widgets/controls",
      "_view_module_version": "1.5.0",
      "_view_name": "ProgressView",
      "bar_style": "success",
      "description": "",
      "description_tooltip": null,
      "layout": "IPY_MODEL_d01078b169944f25a5a1802ed83de312",
      "max": 548105171,
      "min": 0,
      "orientation": "horizontal",
      "style": "IPY_MODEL_f57c210ffb214a58a6dbc61f5cbd9d5b",
      "value": 548105171
     }
    },
    "f57c210ffb214a58a6dbc61f5cbd9d5b": {
     "model_module": "@jupyter-widgets/controls",
     "model_module_version": "1.5.0",
     "model_name": "ProgressStyleModel",
     "state": {
      "_model_module": "@jupyter-widgets/controls",
      "_model_module_version": "1.5.0",
      "_model_name": "ProgressStyleModel",
      "_view_count": null,
      "_view_module": "@jupyter-widgets/base",
      "_view_module_version": "1.2.0",
      "_view_name": "StyleView",
      "bar_color": null,
      "description_width": ""
     }
    },
    "f639e3ac7045487b94f1d68ea72013dc": {
     "model_module": "@jupyter-widgets/base",
     "model_module_version": "1.2.0",
     "model_name": "LayoutModel",
     "state": {
      "_model_module": "@jupyter-widgets/base",
      "_model_module_version": "1.2.0",
      "_model_name": "LayoutModel",
      "_view_count": null,
      "_view_module": "@jupyter-widgets/base",
      "_view_module_version": "1.2.0",
      "_view_name": "LayoutView",
      "align_content": null,
      "align_items": null,
      "align_self": null,
      "border": null,
      "bottom": null,
      "display": null,
      "flex": null,
      "flex_flow": null,
      "grid_area": null,
      "grid_auto_columns": null,
      "grid_auto_flow": null,
      "grid_auto_rows": null,
      "grid_column": null,
      "grid_gap": null,
      "grid_row": null,
      "grid_template_areas": null,
      "grid_template_columns": null,
      "grid_template_rows": null,
      "height": null,
      "justify_content": null,
      "justify_items": null,
      "left": null,
      "margin": null,
      "max_height": null,
      "max_width": null,
      "min_height": null,
      "min_width": null,
      "object_fit": null,
      "object_position": null,
      "order": null,
      "overflow": null,
      "overflow_x": null,
      "overflow_y": null,
      "padding": null,
      "right": null,
      "top": null,
      "visibility": null,
      "width": null
     }
    }
   },
   "state": {}
  }
 },
 "nbformat": 4,
 "nbformat_minor": 1
}
